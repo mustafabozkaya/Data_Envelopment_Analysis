{
 "cells": [
  {
   "cell_type": "code",
   "execution_count": 1,
   "metadata": {},
   "outputs": [],
   "source": [
    "import numpy as np\n",
    "import scipy.optimize as opt"
   ]
  },
  {
   "cell_type": "code",
   "execution_count": 2,
   "metadata": {},
   "outputs": [],
   "source": [
    "X = np.array([\n",
    "    [20., 300., 50, 100],\n",
    "    [30., 400., 5, 100],\n",
    "    [40., 500., 50, 10],\n",
    "    [50., 600., 5, 10],\n",
    "    [60., 700., 50, 1],\n",
    "    [70., 150., 5, 1],\n",
    "    [80., 250., 50, 1],\n",
    "    [90., 350., 5, 1],\n",
    "    [100., 450., 50, 1],\n",
    "    [110., 50., 5, 1],\n",
    "])\n",
    "y = np.array([\n",
    "    [100., 120],\n",
    "    [200., 50],\n",
    "    [50., 100],\n",
    "    [100., 200],\n",
    "    [200., 100],\n",
    "    [100., 20],\n",
    "    [200., 50],\n",
    "    [50., 100],\n",
    "    [10., 200],\n",
    "    [200., 100],\n",
    "])\n"
   ]
  },
  {
   "cell_type": "code",
   "execution_count": 4,
   "metadata": {},
   "outputs": [],
   "source": [
    "output_w =np.zeros(y.shape[1])\n",
    "input_w = np.zeros(X.shape[1])\n",
    "lambdas = np.zeros(X.shape[0])\n",
    "efficiency = np.zeros_like(lambdas)"
   ]
  },
  {
   "cell_type": "code",
   "execution_count": 14,
   "metadata": {},
   "outputs": [
    {
     "data": {
      "text/plain": [
       "array([0., 0., 0., 0.])"
      ]
     },
     "execution_count": 14,
     "metadata": {},
     "output_type": "execute_result"
    }
   ],
   "source": [
    "input_w"
   ]
  },
  {
   "cell_type": "code",
   "execution_count": 15,
   "metadata": {},
   "outputs": [
    {
     "data": {
      "text/plain": [
       "array([0., 0.])"
      ]
     },
     "execution_count": 15,
     "metadata": {},
     "output_type": "execute_result"
    }
   ],
   "source": [
    "output_w"
   ]
  },
  {
   "cell_type": "code",
   "execution_count": 16,
   "metadata": {},
   "outputs": [
    {
     "data": {
      "text/plain": [
       "array([0., 0., 0., 0., 0., 0., 0., 0., 0., 0.])"
      ]
     },
     "execution_count": 16,
     "metadata": {},
     "output_type": "execute_result"
    }
   ],
   "source": [
    "lambdas"
   ]
  },
  {
   "cell_type": "code",
   "execution_count": null,
   "metadata": {},
   "outputs": [],
   "source": []
  },
  {
   "cell_type": "code",
   "execution_count": 8,
   "metadata": {},
   "outputs": [
    {
     "data": {
      "text/plain": [
       "array([0., 0., 0., 0., 0., 0., 0., 0., 0., 0.])"
      ]
     },
     "execution_count": 8,
     "metadata": {},
     "output_type": "execute_result"
    }
   ],
   "source": [
    "efficiency"
   ]
  },
  {
   "cell_type": "code",
   "execution_count": 11,
   "metadata": {},
   "outputs": [],
   "source": [
    "deminator= np.dot(X, input_w)\n",
    "nominator = np.dot(y, output_w)\n"
   ]
  },
  {
   "cell_type": "code",
   "execution_count": 13,
   "metadata": {},
   "outputs": [
    {
     "data": {
      "text/plain": [
       "array([0., 0., 0., 0., 0., 0., 0., 0., 0., 0.])"
      ]
     },
     "execution_count": 13,
     "metadata": {},
     "output_type": "execute_result"
    }
   ],
   "source": [
    "nominator\n"
   ]
  },
  {
   "cell_type": "code",
   "execution_count": 18,
   "metadata": {},
   "outputs": [
    {
     "name": "stderr",
     "output_type": "stream",
     "text": [
      "/tmp/ipykernel_61996/2040763059.py:1: RuntimeWarning: invalid value encountered in floor_divide\n",
      "  efficiency = nominator//deminator\n"
     ]
    },
    {
     "data": {
      "text/plain": [
       "array([nan, nan, nan, nan, nan, nan, nan, nan, nan, nan])"
      ]
     },
     "execution_count": 18,
     "metadata": {},
     "output_type": "execute_result"
    }
   ],
   "source": [
    "# divide the nominator by the denominator\n",
    "efficiency = nominator/deminator\n",
    "efficiency"
   ]
  },
  {
   "cell_type": "code",
   "execution_count": 19,
   "metadata": {},
   "outputs": [],
   "source": [
    "def __efficiency(inputs, outputs, unit):\n",
    "        \"\"\"\n",
    "        Efficiency function with already computed weights\n",
    "        :param unit: which unit to compute for\n",
    "        :return: efficiency\n",
    "        \"\"\"\n",
    "\n",
    "        # compute efficiency\n",
    "        # denominator is sum of inputs data * input weights\n",
    "        denominator = np.dot(inputs, input_w)\n",
    "        # numerator is sum of outputs data * output weights\n",
    "        numerator = np.dot(outputs, output_w)\n",
    "        efficiency = numerator/denominator  # array of efficiencies\n",
    "        # array of differences between numerator and denominator\n",
    "        diff_unit = numerator-denominator\n",
    "\n",
    "        return efficiency[unit]\n",
    "\n",
    "\n",
    "def __target(weights, inputs, outputs, num_in,num_out,  unit):\n",
    "        \"\"\"\n",
    "        Theta target function for one unit\n",
    "        :param weights: combined weights (input, output, lambdas)\n",
    "        :param unit: which production unit to compute\n",
    "        :return: theta\n",
    "        \"\"\"\n",
    "        in_w, out_w, lambdas = weights[:num_in], weights[num_in:(\n",
    "            num_in+num_out)], weights[(num_in+num_out):]  # unroll the weights\n",
    "        # denominator is sum of inputs data * input weights\n",
    "        denominator = np.dot(inputs[unit], in_w)\n",
    "        # numerator is sum of outputs data * output weights\n",
    "        numerator = np.dot(outputs[unit], out_w)\n",
    "\n",
    "        return numerator/denominator"
   ]
  },
  {
   "cell_type": "code",
   "execution_count": 22,
   "metadata": {},
   "outputs": [
    {
     "data": {
      "text/plain": [
       "16"
      ]
     },
     "execution_count": 22,
     "metadata": {},
     "output_type": "execute_result"
    }
   ],
   "source": [
    "weights=np.random.rand(X.shape[1]+y.shape[1]+X.shape[0])\n",
    "len(weights)"
   ]
  },
  {
   "cell_type": "code",
   "execution_count": null,
   "metadata": {},
   "outputs": [],
   "source": [
    "in_w, out_w, lambdas ="
   ]
  },
  {
   "cell_type": "code",
   "execution_count": 23,
   "metadata": {},
   "outputs": [
    {
     "name": "stdout",
     "output_type": "stream",
     "text": [
      "Initial Objective: 16.0\n",
      "Final Objective: 17.01401724563517\n",
      "Solution\n",
      "x1 = 1.0\n",
      "x2 = 4.742996096883977\n",
      "x3 = 3.8211546234095715\n",
      "x4 = 1.379407645075325\n"
     ]
    }
   ],
   "source": [
    "import numpy as np\n",
    "from scipy.optimize import minimize\n",
    "\n",
    "\n",
    "def objective(x):\n",
    "    return x[0]*x[3]*(x[0]+x[1]+x[2])+x[2]\n",
    "    return sum(descriptive)\n",
    "\n",
    "\n",
    "def constraint1(x):\n",
    "    return x[0]*x[1]*x[2]*x[3]-25.0\n",
    "\n",
    "\n",
    "def constraint2(x):\n",
    "    sum_eq = 40.0\n",
    "    for i in range(4):\n",
    "        sum_eq = sum_eq - x[i]**2\n",
    "    return \n",
    "\n",
    "\n",
    "# initial guesses\n",
    "n = 4\n",
    "x0 = np.zeros(n)\n",
    "x0[0] = 1.0\n",
    "x0[1] = 5.0\n",
    "x0[2] = 5.0\n",
    "x0[3] = 1.0\n",
    "\n",
    "# show initial objective\n",
    "print('Initial Objective: ' + str(objective(x0)))\n",
    "\n",
    "# optimize\n",
    "b = (1.0, 5.0)\n",
    "bnds = (b, b, b, b)\n",
    "con1 = {'type': 'ineq', 'fun': constraint1}\n",
    "con2 = {'type': 'eq', 'fun': constraint2}\n",
    "cons = ([con1, con2])\n",
    "solution = minimize(objective, x0, method='SLSQP',\n",
    "                    bounds=bnds, constraints=cons)\n",
    "x = solution.x\n",
    "\n",
    "# show final objective\n",
    "print('Final Objective: ' + str(objective(x)))\n",
    "\n",
    "# print solution\n",
    "print('Solution')\n",
    "print('x1 = ' + str(x[0]))\n",
    "print('x2 = ' + str(x[1]))\n",
    "print('x3 = ' + str(x[2]))\n",
    "print('x4 = ' + str(x[3]))\n"
   ]
  },
  {
   "cell_type": "code",
   "execution_count": null,
   "metadata": {},
   "outputs": [],
   "source": [
    "def objective(weights,df)\n",
    "    summ=sum()\n"
   ]
  }
 ],
 "metadata": {
  "kernelspec": {
   "display_name": "Python 3.8.10 64-bit",
   "language": "python",
   "name": "python3"
  },
  "language_info": {
   "codemirror_mode": {
    "name": "ipython",
    "version": 3
   },
   "file_extension": ".py",
   "mimetype": "text/x-python",
   "name": "python",
   "nbconvert_exporter": "python",
   "pygments_lexer": "ipython3",
   "version": "3.8.10"
  },
  "orig_nbformat": 4,
  "vscode": {
   "interpreter": {
    "hash": "916dbcbb3f70747c44a77c7bcd40155683ae19c65e1c03b4aa3499c5328201f1"
   }
  }
 },
 "nbformat": 4,
 "nbformat_minor": 2
}
