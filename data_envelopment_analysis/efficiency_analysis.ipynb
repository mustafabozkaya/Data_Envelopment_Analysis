{
  "cells": [
    {
      "cell_type": "markdown",
      "metadata": {
        "id": "sdwfYOVzTKzc"
      },
      "source": [
        "# Efficiency Analysis \n",
        "\n",
        "\n",
        "## Objective and Prerequisites\n",
        "\n",
        "How can mathematical optimization be used to measure the efficiency of an organization? Find out in this example, where you’ll learn how to formulate an Efficiency Analysis model as a linear programming problem using the Gurobi Python API and then generate an optimal solution with the Gurobi Optimizer.\n",
        "\n",
        "This model is example 22 from the fifth edition of Model Building in Mathematical Programming by H. Paul Williams on pages 278-280 and 335-336.\n",
        "\n",
        "This example is at the intermediate level, where we assume that you know Python and the Gurobi Python API and that you have some knowledge of building mathematical optimization models.\n",
        "\n",
        "**Download the Repository** <br /> \n",
        "You can download the repository containing this and other examples by clicking [here](https://github.com/Gurobi/modeling-examples/archive/master.zip). "
      ]
    },
    {
      "cell_type": "markdown",
      "metadata": {
        "id": "5-6uSn1eTKzj"
      },
      "source": [
        "## Background\n",
        "\n",
        " The Data Envelopment Analysis (DEA) is a nonparametric problem in operations research and economics whose solution is an estimation of production frontiers. It is used to empirically measure the productive efficiency of decision making units (DMUs). There are a number of linear programming formulations of the DEA problem. Fuller coverage of the subject can be found in Farrell (1957), Charnes et al. (1978) and Thanassoulis et al. (1987). The formulation given by H.P. Williams is described in Land (1991). This formulation is the dual model of a model  commonly used that relies on finding weighted ratios of outputs to inputs. We will use the formulation that is commonly used and can be found in Cooper et al. (2007).\n",
        "\n",
        "The Data Envelopment Analysis has been used to evaluate the performance of many different kinds of entities engaged in many different activities, and in many different contexts in many different countries. Examples include the maintenance activities of U.S. Air Force bases in different geographic locations, or police forces in England and Wales as well as the performance of branch banks in Cyprus and Canada and the efficiency of universities in performing their education and research functions in the U.S., England and France. \n",
        "\n",
        "The DEA approach is concerned with evaluations of *efficiency*. The most common measure of efficiency takes the form of a ratio like the following one:\n",
        "\n",
        "$$\n",
        "\\text{efficiency} = \\frac{\\text{output}}{\\text{input}}\n",
        "$$\n",
        "\n"
      ]
    },
    {
      "cell_type": "markdown",
      "metadata": {
        "id": "5gq-1UDbTKzl"
      },
      "source": [
        "## Model Formulation\n",
        "\n",
        "Assume there is a set of DMUs. Some common input and output items for each of these DMUs are selected as follows:\n",
        "1. Numerical data are available for each input and output, with the data assumed to be positive, for all DMUs.\n",
        "2. The items (inputs, outputs and choice of DMUs) should reflect an analyst's or a manager's interest in the components that will enter into the relative efficiency evaluations of the DMUs.\n",
        "3. In principle, smaller input amounts are preferable and larger output amounts are preferable so the efficiency scores should reflect these principles.\n",
        "4. The measurement units of the different inputs and outputs do not need to be congruent. Some may involve a number of persons, or areas of floor space, money expended, etc.\n",
        "\n",
        "### Fractional problem formulation\n",
        "The proposed measure of the efficiency of a target DMU $k$ is obtained as the maximum of a ratio of weighted outputs to weighted inputs subject to the condition that the similar ratios for every DMU be less than or equal to one.\n",
        "\n",
        "### Sets and indices\n",
        "\n",
        "$j,k \\in \\text{DMUS}$: Indices and set of DMUs, where $k$ represents the target DMU.\n",
        "\n",
        "$i \\in \\text{Inputs}$: Index and set of inputs.\n",
        "\n",
        "$r \\in \\text{Outputs}$: Index and set of outputs.\n",
        "\n",
        "### Parameters\n",
        "\n",
        "$\\text{invalue}_{i,j} > 0$: Value of input $i$ for DMU $j$.\n",
        "\n",
        "$\\text{outvalue}_{r,j} > 0$: Value of output $r$ for DMU $j$.\n",
        "\n",
        "### Decision Variables\n",
        "\n",
        "$u_{r} \\geq 0$: Weight of output $r$.\n",
        "\n",
        "$v_{i} \\geq 0$: Weight of input  $i$.\n",
        "\n",
        "### Objective function\n",
        "\n",
        "**Target DMU Efficiency**: Maximize efficiency at the target DMU $k$.\n",
        "\n",
        "$$\n",
        "\\text{Maximize} \\quad E_k = \n",
        "\\frac{\\sum_{r \\in \\text{Outputs}} \\text{outvalue}_{r,k}*u_{r}}{\\sum_{i \\in \\text{Inputs}} \\text{invalue}_{i,k}*v_{i}}\n",
        "\\tag{FP0}\n",
        "$$\n",
        "\n",
        "\n",
        "### Constraints\n",
        "\n",
        "**Efficiency ratios**: The efficiency of a DMU is a number between $[0,1]$.\n",
        "\n",
        "\\begin{equation}\n",
        "\\frac{\\sum_{r \\in \\text{Outputs}} \\text{outvalue}_{r,j}*u_{r}}{\\sum_{i \\in \\text{Inputs}} \\text{invalue}_{i,j}*v_{i}}\n",
        " \\leq 1 \\quad \\forall j \\in \\text{DMUS}\n",
        " \\tag{FP1}\n",
        "\\end{equation}\n",
        "\n"
      ]
    },
    {
      "cell_type": "markdown",
      "metadata": {
        "id": "MRDG43EhTKzn"
      },
      "source": [
        "### Linear programming problem formulation\n",
        "\n",
        "This linear programming formulation can be found in the book by Cooper et al. (2007).\n",
        "\n",
        "### Objective function\n",
        "\n",
        "**Target DMU Efficiency**: Maximize efficiency at the target DMU $k$.\n",
        "\n",
        "$$\n",
        "\\text{Maximize} \\quad E_k = \\sum_{r \\in \\text{Outputs}} \\text{outvalue}_{r,k}*u_{r}\n",
        "\\tag{LP0}\n",
        "$$\n",
        "\n",
        "\n",
        "### Constraints\n",
        "\n",
        "**Efficiency ratio**: The efficiency of a DMU is a number between $[0,1]$.\n",
        "\n",
        "\\begin{equation}\n",
        "\\sum_{r \\in \\text{Outputs}} \\text{outvalue}_{r,j}*u_{r} -\n",
        "\\sum_{i \\in \\text{Inputs}} \\text{invalue}_{i,k}*v_{i}\n",
        " \\leq 0  \\quad \\forall j \\in \\text{DMUS}\n",
        "\\tag{LP1}\n",
        "\\end{equation}\n",
        "\n",
        "**Normalization**: This constraint ensures that the denominator of the objective function of the fractional problem is equal to one.\n",
        "\n",
        "\\begin{equation}\n",
        "\\sum_{i \\in \\text{Inputs}} \\text{invalue}_{i,k}*v_{i} = 1 \n",
        "\\tag{LP2}\n",
        "\\end{equation}\n",
        "\n",
        "It is easy to verify that the fractional problem and the linear programming problem are equivalent. Let's assume that the denominator of the efficiency ratio constraints of the fractional problem is positive for all DMUs, then we can obtain the constraints $LP1$ by multiplying both sides of the constraints $FP1$ by the denominator. Next, we set the denominator of $FP0$ eqaul to 1 and define constraint $LP2$, and then maximize the numerator, resulting in the objective function $LP0$.\n",
        "\n",
        "### Definition of efficiency\n",
        "\n",
        "1. $DMU_k$ is efficient if the optimal objective function value $E_{k}^{*} = 1$.\n",
        "2. Otherwise, $DMU_k$ is inefficient."
      ]
    },
    {
      "cell_type": "markdown",
      "metadata": {
        "id": "RIuXwr9_TKzn"
      },
      "source": [
        "## Problem Description\n",
        "\n",
        "A car manufacturer wants to evaluate the efficiencies of different garages that have been granted a license to sell its cars. Each garage has a certain number of measurable ‘inputs’:\n",
        "* Staff \n",
        "* Showroom Space\n",
        "* Population in category 1\n",
        "* Population in category 2\n",
        "* Enquiries Alpha model\n",
        "* Enquiries Beta model\n",
        "\n",
        "Each garage also has a certain number of measurable ‘outputs’:\n",
        "* Number Sold of different brands of car \n",
        "* annual Profit\n",
        "\n",
        "The following table gives the inputs and outputs for each of the 28 franchised garages. \n",
        "\n",
        "![inputOutput1](https://github.com/Gurobi/modeling-examples/blob/master/efficiency_analysis/inputOutput1.PNG?raw=1)\n",
        "![inputOutput2](https://github.com/Gurobi/modeling-examples/blob/master/efficiency_analysis/inputOutput2.PNG?raw=1)\n",
        "\n",
        "The goal is to identify efficient and inefficient garages and their input-output weights. In order to solve this problem, it is necessary to solve the LP model for each garage."
      ]
    },
    {
      "cell_type": "markdown",
      "metadata": {
        "id": "5b1bRDv-TKzo"
      },
      "source": [
        "---\n",
        "## Python Implementation\n",
        "\n",
        "We import the Gurobi Python Module and other Python libraries.\n",
        "\n",
        "### Helper Functions\n",
        "\n",
        "* `solve_DEA` builds and solves the LP model."
      ]
    },
    {
      "cell_type": "code",
      "execution_count": 4,
      "metadata": {
        "id": "KUTv7PCxTKzp"
      },
      "outputs": [
        {
          "name": "stdout",
          "output_type": "stream",
          "text": [
            "Defaulting to user installation because normal site-packages is not writeable\n",
            "Requirement already satisfied: gurobipy in /home/mustafa/.local/lib/python3.8/site-packages (10.0.0)\n",
            "\u001b[33mWARNING: You are using pip version 21.3.1; however, version 22.3.1 is available.\n",
            "You should consider upgrading via the '/bin/python3 -m pip install --upgrade pip' command.\u001b[0m\n",
            "Note: you may need to restart the kernel to use updated packages.\n"
          ]
        }
      ],
      "source": [
        "%pip install gurobipy"
      ]
    },
    {
      "cell_type": "code",
      "execution_count": 1,
      "metadata": {
        "id": "6KF4cnuuTKzr"
      },
      "outputs": [],
      "source": [
        "import pandas as pd\n",
        "from itertools import product\n",
        "\n",
        "import gurobipy as gp\n",
        "from gurobipy import GRB\n",
        "\n",
        "# tested with Python 3.7.0 & Gurobi 9.1.0"
      ]
    },
    {
      "cell_type": "code",
      "execution_count": 2,
      "metadata": {
        "id": "tQVuNTJFTKzr"
      },
      "outputs": [],
      "source": [
        "def solve_DEA(target, verbose=True):\n",
        "    # input-output values for the garages\n",
        "    inattr = ['staff', 'showRoom', 'Population1', 'Population2', 'alphaEnquiries', 'betaEnquiries']\n",
        "    outattr = ['alphaSales', 'BetaSales', 'profit']\n",
        "    \n",
        "    dmus, inputs, outputs = gp.multidict({\n",
        "        'Winchester': [{'staff': 7, 'showRoom': 8, 'Population1': 10, 'Population2': 12, 'alphaEnquiries': 8.5, 'betaEnquiries': 4}, {'alphaSales': 2, 'BetaSales': 0.6, 'profit': 1.5}],\n",
        "        'Andover': [{'staff': 6, 'showRoom': 6, 'Population1': 20, 'Population2': 30, 'alphaEnquiries': 9, 'betaEnquiries': 4.5}, {'alphaSales': 2.3, 'BetaSales': 0.7, 'profit': 1.6}],\n",
        "        'Basingstoke': [{'staff': 2, 'showRoom': 3, 'Population1': 40, 'Population2': 40, 'alphaEnquiries': 2, 'betaEnquiries': 1.5}, {'alphaSales': 0.8, 'BetaSales': 0.25, 'profit': 0.5}],\n",
        "        'Poole': [{'staff': 14, 'showRoom': 9, 'Population1': 20, 'Population2': 25, 'alphaEnquiries': 10, 'betaEnquiries': 6}, {'alphaSales': 2.6, 'BetaSales': 0.86, 'profit': 1.9}],\n",
        "        'Woking': [{'staff': 10, 'showRoom': 9, 'Population1': 10, 'Population2': 10, 'alphaEnquiries': 11, 'betaEnquiries': 5}, {'alphaSales': 2.4, 'BetaSales': 1, 'profit': 2}],\n",
        "        'Newbury': [{'staff': 24, 'showRoom': 15, 'Population1': 15, 'Population2': 13, 'alphaEnquiries': 25, 'betaEnquiries': 1.9}, {'alphaSales': 8, 'BetaSales': 2.6, 'profit': 4.5}],\n",
        "        'Portsmouth': [{'staff': 6, 'showRoom': 7, 'Population1': 50, 'Population2': 40, 'alphaEnquiries': 8.5, 'betaEnquiries': 3}, {'alphaSales': 2.5, 'BetaSales': 0.9, 'profit': 1.6}]\n",
        "    })\n",
        "    \n",
        "    ### Create LP model\n",
        "    model = gp.Model('DEA') # create model object\n",
        "    \n",
        "    # Decision variables\n",
        "    wout = model.addVars(outattr, name=\"outputWeight\")  # output weights (w)\n",
        "    win = model.addVars(inattr, name=\"inputWeight\") # input weights (v)\n",
        "\n",
        "    # Constraints\n",
        "    ratios = model.addConstrs( ( gp.quicksum(outputs[h][r]*wout[r] for r in outattr ) \n",
        "                                - gp.quicksum(inputs[h][i]*win[i] for i in inattr ) \n",
        "                                <= 0 for h in dmus ), name='ratios' ) # output ratio constraints\n",
        "    \n",
        "    normalization = model.addConstr((gp.quicksum(inputs[target][i]*win[i] for i in inattr ) == 1 ),\n",
        "                                    name='normalization') # sum of mutliplicative weights and target DMU inputs = 1\n",
        "\n",
        "    # add input and output weights must be greater and equal to 0\n",
        "    model.addConstrs((wout[r] >= 0 for r in outattr), name='wout') \n",
        "\n",
        "    model.addConstrs((win[i] >= 0 for i in inattr), name='win')\n",
        "    \n",
        "    # Objective function (maximize profit)\n",
        "    model.setObjective( gp.quicksum(outputs[target][r]*wout[r] for r in outattr ), GRB.MAXIMIZE)\n",
        "    \n",
        "    # Run optimization engine\n",
        "    if not verbose:\n",
        "        model.params.OutputFlag = 0\n",
        "    model.optimize()\n",
        "    \n",
        "    # Print results\n",
        "    print(f\"\\nThe efficiency of target DMU {target} is {round(model.objVal,3)}\") \n",
        "    \n",
        "    print(\"__________________________________________________________________\")\n",
        "    print(f\"The weights for the inputs are:\")\n",
        "    for i in inattr:\n",
        "        print(f\"For {i}: {round(win[i].x,3)} \") \n",
        "        \n",
        "    print(\"__________________________________________________________________\")\n",
        "    print(f\"The weights for the outputs are\")\n",
        "    for r in outattr:\n",
        "        print(f\"For {r} is: {round(wout[r].x,3)} \") \n",
        "    print(\"__________________________________________________________________\\n\\n\")  \n",
        "    \n",
        "    return model.objVal"
      ]
    },
    {
      "cell_type": "markdown",
      "metadata": {
        "id": "iTWLUTrDTKzs"
      },
      "source": [
        "## Input Data\n",
        "We define the list of garages."
      ]
    },
    {
      "cell_type": "code",
      "execution_count": 3,
      "metadata": {
        "id": "Tr0X2g-yTKzs"
      },
      "outputs": [],
      "source": [
        "dmus = ['Winchester','Andover','Basingstoke', 'Poole', 'Woking','Newbury','Portsmouth']"
      ]
    },
    {
      "cell_type": "markdown",
      "metadata": {
        "id": "hxe93u_WTKzt"
      },
      "source": [
        "---\n",
        "## Output Report\n",
        "\n",
        "We print out the efficiency score of each garage and its associated input and output weights."
      ]
    },
    {
      "cell_type": "code",
      "execution_count": 4,
      "metadata": {
        "id": "dbNLEbE-TKzt",
        "outputId": "e3320e15-3d82-46c1-af2e-558b6951b5d2"
      },
      "outputs": [
        {
          "name": "stdout",
          "output_type": "stream",
          "text": [
            "Restricted license - for non-production use only - expires 2024-10-28\n",
            "\n",
            "The efficiency of target DMU Winchester is 1.0\n",
            "__________________________________________________________________\n",
            "The weights for the inputs are:\n",
            "For staff: 0.12 \n",
            "For showRoom: 0.0 \n",
            "For Population1: 0.0 \n",
            "For Population2: 0.013 \n",
            "For alphaEnquiries: 0.0 \n",
            "For betaEnquiries: 0.0 \n",
            "__________________________________________________________________\n",
            "The weights for the outputs are\n",
            "For alphaSales is: 0.0 \n",
            "For BetaSales is: 0.0 \n",
            "For profit is: 0.667 \n",
            "__________________________________________________________________\n",
            "\n",
            "\n",
            "\n",
            "The efficiency of target DMU Andover is 1.0\n",
            "__________________________________________________________________\n",
            "The weights for the inputs are:\n",
            "For staff: 0.167 \n",
            "For showRoom: 0.0 \n",
            "For Population1: 0.0 \n",
            "For Population2: 0.0 \n",
            "For alphaEnquiries: 0.0 \n",
            "For betaEnquiries: 0.0 \n",
            "__________________________________________________________________\n",
            "The weights for the outputs are\n",
            "For alphaSales is: 0.0 \n",
            "For BetaSales is: 0.0 \n",
            "For profit is: 0.625 \n",
            "__________________________________________________________________\n",
            "\n",
            "\n",
            "\n",
            "The efficiency of target DMU Basingstoke is 1.0\n",
            "__________________________________________________________________\n",
            "The weights for the inputs are:\n",
            "For staff: 0.42 \n",
            "For showRoom: 0.0 \n",
            "For Population1: 0.0 \n",
            "For Population2: 0.0 \n",
            "For alphaEnquiries: 0.08 \n",
            "For betaEnquiries: 0.0 \n",
            "__________________________________________________________________\n",
            "The weights for the outputs are\n",
            "For alphaSales is: 0.0 \n",
            "For BetaSales is: 0.0 \n",
            "For profit is: 2.0 \n",
            "__________________________________________________________________\n",
            "\n",
            "\n",
            "\n",
            "The efficiency of target DMU Poole is 1.0\n",
            "__________________________________________________________________\n",
            "The weights for the inputs are:\n",
            "For staff: 0.0 \n",
            "For showRoom: 0.0 \n",
            "For Population1: 0.002 \n",
            "For Population2: 0.0 \n",
            "For alphaEnquiries: 0.096 \n",
            "For betaEnquiries: 0.0 \n",
            "__________________________________________________________________\n",
            "The weights for the outputs are\n",
            "For alphaSales is: 0.0 \n",
            "For BetaSales is: 0.0 \n",
            "For profit is: 0.526 \n",
            "__________________________________________________________________\n",
            "\n",
            "\n",
            "\n",
            "The efficiency of target DMU Woking is 1.0\n",
            "__________________________________________________________________\n",
            "The weights for the inputs are:\n",
            "For staff: 0.064 \n",
            "For showRoom: 0.0 \n",
            "For Population1: 0.0 \n",
            "For Population2: 0.006 \n",
            "For alphaEnquiries: 0.028 \n",
            "For betaEnquiries: 0.0 \n",
            "__________________________________________________________________\n",
            "The weights for the outputs are\n",
            "For alphaSales is: 0.0 \n",
            "For BetaSales is: 0.0 \n",
            "For profit is: 0.5 \n",
            "__________________________________________________________________\n",
            "\n",
            "\n",
            "\n",
            "The efficiency of target DMU Newbury is 1.0\n",
            "__________________________________________________________________\n",
            "The weights for the inputs are:\n",
            "For staff: 0.04 \n",
            "For showRoom: 0.0 \n",
            "For Population1: 0.002 \n",
            "For Population2: 0.0 \n",
            "For alphaEnquiries: 0.0 \n",
            "For betaEnquiries: 0.0 \n",
            "__________________________________________________________________\n",
            "The weights for the outputs are\n",
            "For alphaSales is: 0.125 \n",
            "For BetaSales is: 0.0 \n",
            "For profit is: 0.0 \n",
            "__________________________________________________________________\n",
            "\n",
            "\n",
            "\n",
            "The efficiency of target DMU Portsmouth is 1.0\n",
            "__________________________________________________________________\n",
            "The weights for the inputs are:\n",
            "For staff: 0.011 \n",
            "For showRoom: 0.0 \n",
            "For Population1: 0.0 \n",
            "For Population2: 0.001 \n",
            "For alphaEnquiries: 0.104 \n",
            "For betaEnquiries: 0.0 \n",
            "__________________________________________________________________\n",
            "The weights for the outputs are\n",
            "For alphaSales is: 0.0 \n",
            "For BetaSales is: 1.111 \n",
            "For profit is: 0.0 \n",
            "__________________________________________________________________\n",
            "\n",
            "\n"
          ]
        }
      ],
      "source": [
        "# Solving DEA model for each DMU\n",
        "\n",
        "performance = {}\n",
        "for h in dmus:    \n",
        "    performance[h] = solve_DEA(h, verbose=False)\n"
      ]
    },
    {
      "cell_type": "code",
      "execution_count": 6,
      "metadata": {},
      "outputs": [
        {
          "data": {
            "text/plain": [
              "dict_items([('Winchester', 1.0), ('Andover', 1.0), ('Basingstoke', 1.0), ('Poole', 0.9999999999999999), ('Woking', 1.0000000000000002), ('Newbury', 1.0), ('Portsmouth', 1.0)])"
            ]
          },
          "execution_count": 6,
          "metadata": {},
          "output_type": "execute_result"
        }
      ],
      "source": [
        "performance.items()"
      ]
    },
    {
      "cell_type": "markdown",
      "metadata": {
        "id": "eKnO3FR_TKzu"
      },
      "source": [
        "---\n",
        "## Analysis\n",
        "\n",
        "We identify which garages are efficient and which ones are inefficient, and provide the efficiency scores for each garage."
      ]
    },
    {
      "cell_type": "code",
      "execution_count": null,
      "metadata": {
        "id": "GQ9hggCtTKzu",
        "outputId": "70d6c6cb-46a3-466c-814c-1f491999dea1"
      },
      "outputs": [
        {
          "name": "stdout",
          "output_type": "stream",
          "text": [
            "____________________________________________\n",
            "The efficient DMUs are:\n",
            "The performance value of DMU Newbury is: 1.0\n",
            "The performance value of DMU Alresford is: 1.0\n",
            "The performance value of DMU Salisbury is: 1.0\n",
            "The performance value of DMU Alton is: 1.0\n",
            "The performance value of DMU Weymouth is: 1.0\n",
            "The performance value of DMU Petersfield is: 1.0\n",
            "The performance value of DMU Southampton is: 1.0\n",
            "The performance value of DMU Bournemouth is: 1.0\n",
            "The performance value of DMU Maidenhead is: 1.0\n",
            "The performance value of DMU Fareham is: 1.0\n",
            "The performance value of DMU Romsey is: 1.0\n",
            "The performance value of DMU Basingstoke is: 1.0\n",
            "The performance value of DMU Portsmouth is: 1.0\n",
            "The performance value of DMU Portland is: 1.0\n",
            "The performance value of DMU Henley is: 1.0\n",
            "____________________________________________\n",
            "The inefficient DMUs are:\n",
            "The performance value of DMU Petworth is: 0.988\n",
            "The performance value of DMU Reading is: 0.984\n",
            "The performance value of DMU Bridport is: 0.982\n",
            "The performance value of DMU Andover is: 0.917\n",
            "The performance value of DMU Ringwood is: 0.908\n",
            "The performance value of DMU Midhurst is: 0.889\n",
            "The performance value of DMU Dorchester is: 0.867\n",
            "The performance value of DMU Poole is: 0.864\n",
            "The performance value of DMU Weybridge is: 0.854\n",
            "The performance value of DMU Woking is: 0.845\n",
            "The performance value of DMU Winchester is: 0.835\n",
            "The performance value of DMU Chichester is: 0.825\n",
            "The performance value of DMU Guildford is: 0.802\n"
          ]
        }
      ],
      "source": [
        "# Identifying efficient and inefficient DMUs\n",
        "\n",
        "# Sorting garages in descending efficiency number\n",
        "sorted_performance = {k: v for k, v in sorted(performance.items(), key=lambda item: item[1], reverse = True)}\n",
        "\n",
        "efficient = []\n",
        "inefficient = []\n",
        "\n",
        "for h in sorted_performance.keys():\n",
        "    if sorted_performance[h] >= 0.9999999:\n",
        "        efficient.append(h) \n",
        "    if sorted_performance[h] < 0.9999999:\n",
        "        inefficient.append(h)\n",
        "        \n",
        "print('____________________________________________')\n",
        "print(f\"The efficient DMUs are:\")\n",
        "for eff in efficient:\n",
        "    print(f\"The performance value of DMU {eff} is: {round(performance[eff],3)}\") \n",
        "    \n",
        "print('____________________________________________')\n",
        "print(f\"The inefficient DMUs are:\")\n",
        "for ine in inefficient:\n",
        "    print(f\"The performance value of DMU {ine} is: {round(performance[ine],3)}\") \n"
      ]
    },
    {
      "cell_type": "markdown",
      "metadata": {
        "id": "IesVJ1wYTKzv"
      },
      "source": [
        "## References\n",
        "\n",
        "H. Paul Williams, Model Building in Mathematical Programming, fifth edition.\n",
        "\n",
        "Cooper, W. W, L. M. Seiford, K. Tone. (2007) Data Envelopment Analysis: A Comprehensive Text with Models, Applications, References and DEA-Solver Software. Second edition. Springer-Verlag US.\n",
        "\n",
        "Land, A. (1991) Data envelopment analysis, Chapter 5, in Operations Research in Management (eds S.C. Littlechild and M.F. Shutler), Prentice Hall, London.\n",
        "\n",
        "Farrell, M.J. (1957) The measurement of productive efficiency. Journal of the Royal Statistical Society, Series A, 120, 253–290.\n",
        "\n",
        "Charnes, A., Cooper, W.W. and Rhodes, E. (1978) Measuring the efficiency of decision making units. European Journal of Operational Research, 2, 429–444.\n",
        "\n",
        "Thanassoulis, E., Dyson, R.G. and Foster, M.J. (1987) Relative efficiency assessments using data envelopment analysis: an application to data on rates departments. Journal of the Operational Research Society, 5, 397–411.\n",
        "\n",
        "Copyright © 2020 Gurobi Optimization, LLC"
      ]
    },
    {
      "cell_type": "code",
      "execution_count": 1,
      "metadata": {},
      "outputs": [],
      "source": [
        "import gurobipy as gp\n",
        "\n",
        "dmus, inputs, outputs = gp.multidict({\n",
        "    'Line_1': [{'Electricity': 1, 'Gas': 8, 'Water': 10, 'Chemical': 12, 'Maintance': 8.5, 'Labor': 4},   {'Production_Amount': 2,    'Quality': 0.6}],\n",
        "    'Line_2': [{'Electricity': 1, 'Gas': 6, 'Water': 20, 'Chemical': 30, 'Maintance': 9,   'Labor': 4.5}, {'Production_Amount': 2.3,  'Quality': 0.7}],\n",
        "    'Line_3': [{'Electricity': 2, 'Gas': 3, 'Water': 40, 'Chemical': 40, 'Maintance': 2,   'Labor': 1.5}, {'Production_Amount': 0.8,  'Quality': 0.25}],\n",
        "    'Line_4': [{'Electricity': 2, 'Gas': 9, 'Water': 20, 'Chemical': 25, 'Maintance': 10,  'Labor': 6},   {'Production_Amount': 2.6,  'Quality': 0.86}]\n",
        "})\n"
      ]
    },
    {
      "cell_type": "code",
      "execution_count": 2,
      "metadata": {},
      "outputs": [
        {
          "data": {
            "text/plain": [
              "['Line_1', 'Line_2', 'Line_3', 'Line_4']"
            ]
          },
          "execution_count": 2,
          "metadata": {},
          "output_type": "execute_result"
        }
      ],
      "source": [
        "dmus"
      ]
    },
    {
      "cell_type": "code",
      "execution_count": 3,
      "metadata": {},
      "outputs": [
        {
          "data": {
            "text/plain": [
              "{'Line_1': {'Electricity': 1,\n",
              "  'Gas': 8,\n",
              "  'Water': 10,\n",
              "  'Chemical': 12,\n",
              "  'Maintance': 8.5,\n",
              "  'Labor': 4},\n",
              " 'Line_2': {'Electricity': 1,\n",
              "  'Gas': 6,\n",
              "  'Water': 20,\n",
              "  'Chemical': 30,\n",
              "  'Maintance': 9,\n",
              "  'Labor': 4.5},\n",
              " 'Line_3': {'Electricity': 2,\n",
              "  'Gas': 3,\n",
              "  'Water': 40,\n",
              "  'Chemical': 40,\n",
              "  'Maintance': 2,\n",
              "  'Labor': 1.5},\n",
              " 'Line_4': {'Electricity': 2,\n",
              "  'Gas': 9,\n",
              "  'Water': 20,\n",
              "  'Chemical': 25,\n",
              "  'Maintance': 10,\n",
              "  'Labor': 6}}"
            ]
          },
          "execution_count": 3,
          "metadata": {},
          "output_type": "execute_result"
        }
      ],
      "source": [
        "inputs"
      ]
    },
    {
      "cell_type": "code",
      "execution_count": 8,
      "metadata": {},
      "outputs": [
        {
          "data": {
            "text/html": [
              "<div>\n",
              "<style scoped>\n",
              "    .dataframe tbody tr th:only-of-type {\n",
              "        vertical-align: middle;\n",
              "    }\n",
              "\n",
              "    .dataframe tbody tr th {\n",
              "        vertical-align: top;\n",
              "    }\n",
              "\n",
              "    .dataframe thead th {\n",
              "        text-align: right;\n",
              "    }\n",
              "</style>\n",
              "<table border=\"1\" class=\"dataframe\">\n",
              "  <thead>\n",
              "    <tr style=\"text-align: right;\">\n",
              "      <th></th>\n",
              "      <th>Electricity</th>\n",
              "      <th>Gas</th>\n",
              "      <th>Water</th>\n",
              "      <th>Chemical</th>\n",
              "      <th>Maintance</th>\n",
              "      <th>Labor</th>\n",
              "    </tr>\n",
              "  </thead>\n",
              "  <tbody>\n",
              "    <tr>\n",
              "      <th>Line_1</th>\n",
              "      <td>1.0</td>\n",
              "      <td>8.0</td>\n",
              "      <td>10.0</td>\n",
              "      <td>12.0</td>\n",
              "      <td>8.5</td>\n",
              "      <td>4.0</td>\n",
              "    </tr>\n",
              "    <tr>\n",
              "      <th>Line_2</th>\n",
              "      <td>1.0</td>\n",
              "      <td>6.0</td>\n",
              "      <td>20.0</td>\n",
              "      <td>30.0</td>\n",
              "      <td>9.0</td>\n",
              "      <td>4.5</td>\n",
              "    </tr>\n",
              "    <tr>\n",
              "      <th>Line_3</th>\n",
              "      <td>2.0</td>\n",
              "      <td>3.0</td>\n",
              "      <td>40.0</td>\n",
              "      <td>40.0</td>\n",
              "      <td>2.0</td>\n",
              "      <td>1.5</td>\n",
              "    </tr>\n",
              "    <tr>\n",
              "      <th>Line_4</th>\n",
              "      <td>2.0</td>\n",
              "      <td>9.0</td>\n",
              "      <td>20.0</td>\n",
              "      <td>25.0</td>\n",
              "      <td>10.0</td>\n",
              "      <td>6.0</td>\n",
              "    </tr>\n",
              "  </tbody>\n",
              "</table>\n",
              "</div>"
            ],
            "text/plain": [
              "        Electricity  Gas  Water  Chemical  Maintance  Labor\n",
              "Line_1          1.0  8.0   10.0      12.0        8.5    4.0\n",
              "Line_2          1.0  6.0   20.0      30.0        9.0    4.5\n",
              "Line_3          2.0  3.0   40.0      40.0        2.0    1.5\n",
              "Line_4          2.0  9.0   20.0      25.0       10.0    6.0"
            ]
          },
          "execution_count": 8,
          "metadata": {},
          "output_type": "execute_result"
        }
      ],
      "source": [
        "import pandas as pd\n",
        "inputss_=pd.DataFrame(inputs).T\n",
        "inputss_"
      ]
    },
    {
      "cell_type": "code",
      "execution_count": 4,
      "metadata": {},
      "outputs": [
        {
          "data": {
            "text/plain": [
              "{'Line_1': {'Production_Amount': 2, 'Quality': 0.6},\n",
              " 'Line_2': {'Production_Amount': 2.3, 'Quality': 0.7},\n",
              " 'Line_3': {'Production_Amount': 0.8, 'Quality': 0.25},\n",
              " 'Line_4': {'Production_Amount': 2.6, 'Quality': 0.86}}"
            ]
          },
          "execution_count": 4,
          "metadata": {},
          "output_type": "execute_result"
        }
      ],
      "source": [
        "outputs"
      ]
    },
    {
      "cell_type": "code",
      "execution_count": null,
      "metadata": {},
      "outputs": [],
      "source": []
    },
    {
      "cell_type": "code",
      "execution_count": null,
      "metadata": {},
      "outputs": [],
      "source": []
    }
  ],
  "metadata": {
    "colab": {
      "provenance": []
    },
    "kernelspec": {
      "display_name": "Python 3.8.10 64-bit",
      "language": "python",
      "name": "python3"
    },
    "language_info": {
      "codemirror_mode": {
        "name": "ipython",
        "version": 3
      },
      "file_extension": ".py",
      "mimetype": "text/x-python",
      "name": "python",
      "nbconvert_exporter": "python",
      "pygments_lexer": "ipython3",
      "version": "3.8.10"
    },
    "vscode": {
      "interpreter": {
        "hash": "916dbcbb3f70747c44a77c7bcd40155683ae19c65e1c03b4aa3499c5328201f1"
      }
    }
  },
  "nbformat": 4,
  "nbformat_minor": 0
}
